{
 "cells": [
  {
   "cell_type": "markdown",
   "metadata": {},
   "source": [
    "# Aula 01 - Começando com o Python"
   ]
  },
  {
   "cell_type": "markdown",
   "metadata": {},
   "source": [
    "### 1. Problema de Negocio\n",
    "\n",
    "##### Empresa: House Rocket.\n",
    "###### Plataforma de compras e vendas de imóveis.\n",
    "###### Problema: Maximizar o lucro da empresa encontrando bons negócios.\n",
    "###### Estrategia: Fontes externas para encontrar bons negócios.\n",
    "#####  Perguntas \n",
    "###### 1. Quantas casas estão disponiveis para compra ?\n",
    "###### 2. Quantos atributos as casas possuem ?\n",
    "###### 3. Quais são esses atributos?\n",
    "###### 4. Qual a casa mais cara do portifólio ?\n",
    "###### 5. Qual a casa com o maior número de quartos ?\n"
   ]
  },
  {
   "cell_type": "markdown",
   "metadata": {},
   "source": [
    "### 2. Planejamento de Solução\n",
    "\n",
    "##### 2.1 Planejamento do Produto Final\n",
    "###### O que eu vou entregar de feito ? ( Planilha, Texto, Email, Modelos de ML, ....)\n",
    "###### EX (R: Texto com as respostas.)\n",
    "###### Como vai ser a entrega ?\n",
    "###### EX (R: Perguntas = Respostas)\n",
    "\n",
    "##### 2.2 Planejamento do Processo\n",
    "\n",
    "###### 2.2.1. Onde está a informação ? https://www.kaggle.com/harlfoxem/housesalesprediction\n",
    "\n",
    "###### 2.2.2. Como coletar essas informações ? (SQL, Python, Streamlit, ...) R: Download\n",
    "\n",
    "###### 2.2.3. Responder as perguntas:\n",
    "###### 2.2.3.1. Quantas casas estão disponiveis para compra ? \n",
    "###### 2.2.3.2. Quantos atributos as casas possuem ?\n",
    "###### 2.2.3.3. Quais são esses atributos?\n",
    "###### 2.2.3.4. Qual a casa mais cara do portifólio ?\n",
    "###### 2.2.3.5. Qual a casa com o maior número de quartos ?\n",
    "\n",
    "\n",
    "##### 2.3 Planejamento das Ferramentas\n",
    "\n",
    "###### 2.3.1. Quais ferramentas eu posso usar ? (Qualquer ferramenta de processamento de dados)\n",
    "###### - Excel\n",
    "###### - Python\n"
   ]
  },
  {
   "cell_type": "markdown",
   "metadata": {},
   "source": [
    "### 3. O que é Python ?\n",
    "###### - Linguagem de Programação : Google it"
   ]
  },
  {
   "cell_type": "markdown",
   "metadata": {},
   "source": [
    "### 4. Como escrever código Python ?\n",
    "##### 4.1 Editores de Texto\n",
    "###### - Notepad++\n",
    "###### - VIM\n",
    "###### - Bloco de Notas\n",
    "##### 4.2 IDE's\n",
    "###### - VSCode\n",
    "###### - Pycharm\n",
    "###### - Spyder"
   ]
  },
  {
   "cell_type": "markdown",
   "metadata": {},
   "source": [
    "### 5. Os primeiros comandos Python ?\n"
   ]
  },
  {
   "cell_type": "code",
   "execution_count": 1,
   "metadata": {},
   "outputs": [
    {
     "name": "stdout",
     "output_type": "stream",
     "text": [
      "Hello World!\n"
     ]
    }
   ],
   "source": [
    "# Respeito as praticas antigas\n",
    "print(\"Hello World!\")                       "
   ]
  },
  {
   "cell_type": "code",
   "execution_count": 2,
   "metadata": {},
   "outputs": [
    {
     "name": "stdout",
     "output_type": "stream",
     "text": [
      "30\n"
     ]
    }
   ],
   "source": [
    "# Uso de Variaveis\n",
    "a = 10\n",
    "b = 20\n",
    "c = a + b\n",
    "\n",
    "print(c)"
   ]
  },
  {
   "cell_type": "code",
   "execution_count": 3,
   "metadata": {},
   "outputs": [
    {
     "name": "stdout",
     "output_type": "stream",
     "text": [
      "30\n"
     ]
    }
   ],
   "source": [
    "# Construindo uma função\n",
    "\n",
    "def soma(x,y):\n",
    "    return x + y\n",
    "a = 10\n",
    "b = 20\n",
    "\n",
    "print(soma(a,b))"
   ]
  },
  {
   "cell_type": "markdown",
   "metadata": {},
   "source": [
    "### 6. Responder as questões de negócio.\n",
    "###### 2.2.3. Responder as perguntas:\n",
    "###### 2.2.3.1. Quantas casas estão disponiveis para compra ? \n",
    "###### 2.2.3.2. Quantos atributos as casas possuem ?\n",
    "###### 2.2.3.3. Quais são esses atributos?\n",
    "###### 2.2.3.4. Qual a casa mais cara do portifólio ?\n",
    "###### 2.2.3.5. Qual a casa com o maior número de quartos ?"
   ]
  },
  {
   "cell_type": "markdown",
   "metadata": {},
   "source": [
    "### 7. Exercicios\n",
    "###### Qual a soma total de quartos do conjunto de dados ?\n",
    "###### Quantas casas possuem 2 banheiros ?\n",
    "###### Qual o preço médio de todas as casas no conjunto de dados?\n",
    "###### Qual o preço medio de casas com 2 banheiros ?\n",
    "###### Qual o preço minimo entre as casas com 3 quartos ?\n",
    "###### Quantas casas possuem mais de 300 metros quadrados na sala de estar ?\n",
    "###### Quantas casas tem mais de 2 andares ?\n",
    "###### Quantas casas tem vista para o mar ?\n",
    "###### Das casas com mais de 300 metros quadrados de sala de estar quantos tem mais de 2 banheiros ? \n",
    " "
   ]
  },
  {
   "cell_type": "markdown",
   "metadata": {},
   "source": []
  },
  {
   "cell_type": "markdown",
   "metadata": {},
   "source": []
  }
 ],
 "metadata": {
  "interpreter": {
   "hash": "0b660ded8ff8447da09d07df3afd24bbf4f0ee8665280624e7cc86e626af81de"
  },
  "kernelspec": {
   "display_name": "Python 3.9.7 64-bit",
   "language": "python",
   "name": "python3"
  },
  "language_info": {
   "codemirror_mode": {
    "name": "ipython",
    "version": 3
   },
   "file_extension": ".py",
   "mimetype": "text/x-python",
   "name": "python",
   "nbconvert_exporter": "python",
   "pygments_lexer": "ipython3",
   "version": "3.9.7"
  },
  "orig_nbformat": 4
 },
 "nbformat": 4,
 "nbformat_minor": 2
}
